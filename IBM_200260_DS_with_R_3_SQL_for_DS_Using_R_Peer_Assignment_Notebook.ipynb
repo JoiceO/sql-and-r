{
  "cells": [
    {
      "cell_type": "markdown",
      "metadata": {
        "id": "fb218740-8bc1-43ff-9f99-30d413b007e9"
      },
      "source": [
        "<center>\n",
        "     <img src=\"https://cf-courses-data.s3.us.cloud-object-storage.appdomain.cloud/assets/logos/SN_web_lightmode.png\" width=\"300\">\n",
        "</center>\n",
        "\n",
        "#Problems for Peer Reviewed Assignment\n"
      ]
    },
    {
      "cell_type": "markdown",
      "metadata": {
        "id": "a464fbbe-11f0-415d-a624-a8938d84badf"
      },
      "source": [
        "# Assignment Scenario\n",
        "\n",
        "Congratulations! You have just been hired by a US Venture Capital firm as a data analyst.\n",
        "\n",
        "The company is considering foreign grain markets to help meet its supply chain requirements for its recent investments in the microbrewery and microdistillery industry, which is involved with the production and distribution of craft beers and spirits.\n",
        "\n",
        "Your first task is to provide a high level analysis of crop production in Canada. Your stakeholders want to understand the current and historical performance of certain crop types in terms of supply and price volatility. For now they are mainly interested in a macro-view of Canada's crop farming industry, and how it relates to the relative value of the Canadian and US dollars.\n"
      ]
    },
    {
      "cell_type": "markdown",
      "metadata": {
        "id": "ae0f9a0c-99ec-427b-8573-54b98c2e3d1b"
      },
      "source": [
        "# Introduction\n",
        "\n",
        "Using this R notebook you will:\n",
        "\n",
        "1.  Understand four datasets\n",
        "2.  Load the datasets into four separate tables in a Db2 database\n",
        "3.  Execute SQL queries unsing the RODBC R package to answer assignment questions\n",
        "\n"
      ]
    },
    {
      "cell_type": "markdown",
      "metadata": {
        "id": "83aa5b46-e7fb-4b6c-99f9-f3eed3c7724d"
      },
      "source": [
        "# Understand the datasets\n",
        "\n",
        "To complete the assignment problems in this notebook you will be using subsetted snapshots of two datasets from Statistics Canada, and one from the Bank of Canada. The links to the prepared datasets are provided in the next section; the interested student can explore the landing pages for the source datasets as follows:\n",
        "\n",
        "1.  <a href=\"https://www150.statcan.gc.ca/t1/tbl1/en/tv.action?pid=3210035901\">Canadian Principal Crops (Data & Metadata)</a>\n",
        "2.  <a href=\"https://www150.statcan.gc.ca/t1/tbl1/en/tv.action?pid=3210007701\">Farm product prices (Data & Metadata)</a>\n",
        "3.  <a href=\"https://www.bankofcanada.ca/rates/exchange/daily-exchange-rates\">Bank of Canada daily average exchange rates</a>\n",
        "\n",
        "\n",
        "### 1. Canadian Principal Crops Data *\n",
        "\n",
        "This dataset contains agricultural production measures for the principle crops grown in Canada, including a breakdown by province and teritory, for each year from 1908 to 2020.\n",
        "\n",
        "For this assignment you will use a preprocessed snapshot of this dataset (see below).\n",
        "\n",
        "A detailed description of this dataset can be obtained from the StatsCan Data Portal at:\n",
        "https://www150.statcan.gc.ca/t1/tbl1/en/tv.action?pid=3210035901  \n",
        "Detailed information is included in the metadata file and as header text in the data file, which can be downloaded - look for the 'download options' link.  \n",
        "\n",
        "### 2. Farm product prices\n",
        "\n",
        "This dataset contains monthly average farm product prices for Canadian crops and livestock by province and teritory, from 1980 to 2020 (or 'last year', whichever is greatest).\n",
        "\n",
        "For this assignment you will use a preprocessed snapshot of this dataset (see below).\n",
        "\n",
        "A description of this dataset can be obtained from the StatsCan Data Portal at:\n",
        "https://www150.statcan.gc.ca/t1/tbl1/en/tv.action?pid=3210007701\n",
        "The information is included in the metadata file, which can be downloaded - look for the 'download options' link.  \n",
        "\n",
        "### 3. Bank of Canada daily average exchange rates *\n",
        "\n",
        "This dataset contains the daily average exchange rates for multiple foreign currencies. Exchange rates are expressed as 1 unit of the foreign currency converted into Canadian dollars. It includes only the latest four years of data, and the rates are published once each business day by 16:30 ET.\n",
        "\n",
        "For this assignment you will use a snapshot of this dataset with only the USD-CAD exchange rates included (see next section). We have also prepared a monthly averaged version which you will be using below.\n",
        "\n",
        "A brief description of this dataset and the original dataset can be obtained from the Bank of Canada Data Portal at:\n",
        "https://www.bankofcanada.ca/rates/exchange/daily-exchange-rates/\n",
        "\n",
        "( * these datasets are the same as the ones you used in the practice lab)\n"
      ]
    },
    {
      "cell_type": "markdown",
      "metadata": {
        "id": "117e1774-1e7f-489f-81e5-863624bf8475"
      },
      "source": [
        "### Dataset URLs\n",
        "\n",
        "  1.  Annual Crop Data: https://cf-courses-data.s3.us.cloud-object-storage.appdomain.cloud/IBM-RP0203EN-SkillsNetwork/labs/Final%20Project/Annual_Crop_Data.csv\n",
        "\n",
        "  2.  Farm product prices: https://cf-courses-data.s3.us.cloud-object-storage.appdomain.cloud/IBM-RP0203EN-SkillsNetwork/labs/Final%20Project/Monthly_Farm_Prices.csv\n",
        "  \n",
        "  3.  Daily FX Data: https://cf-courses-data.s3.us.cloud-object-storage.appdomain.cloud/IBM-RP0203EN-SkillsNetwork/labs/Final%20Project/Daily_FX.csv\n",
        "  \n",
        "  4.  Monthly FX Data: https://cf-courses-data.s3.us.cloud-object-storage.appdomain.cloud/IBM-RP0203EN-SkillsNetwork/labs/Final%20Project/Monthly_FX.csv\n",
        "  \n",
        "\n",
        "<span style=\"color:red\">**IMPORTANT:**</span> You will be loading these datasets directly into R data frames from these URLs instead of from the StatsCan and Bank of Canada portals. The versions provided at these URLs are simplified and subsetted versions of the original datasets.\n"
      ]
    },
    {
      "cell_type": "markdown",
      "metadata": {
        "id": "d471876f-1613-4bbc-9f79-197103b866f2"
      },
      "source": [
        "#### Now let's load these datasets into four separate Db2 tables.\n",
        "Let's first load the RODBC package:\n"
      ]
    },
    {
      "cell_type": "code",
      "source": [
        "install.packages(\"RODBC\")"
      ],
      "metadata": {
        "colab": {
          "base_uri": "https://localhost:8080/"
        },
        "id": "QS-Wt_6dTwv3",
        "outputId": "d37a50c9-bf7f-4bc9-c629-d222fc8c5c04"
      },
      "execution_count": null,
      "outputs": [
        {
          "output_type": "stream",
          "name": "stderr",
          "text": [
            "Installing package into ‘/usr/local/lib/R/site-library’\n",
            "(as ‘lib’ is unspecified)\n",
            "\n"
          ]
        }
      ]
    },
    {
      "cell_type": "code",
      "metadata": {
        "id": "cc3f7da8-92d1-400a-b2d5-ccb78d9ac5b7"
      },
      "outputs": [],
      "source": [
        "library(RODBC)"
      ],
      "execution_count": null
    },
    {
      "cell_type": "markdown",
      "metadata": {
        "id": "98646123-2623-49c7-8bf9-3f18074c0ab0"
      },
      "source": [
        "## Problem 1\n",
        "#### Create tables\n",
        "Establish a connection to the Db2 database, and create the following four tables using the RODBC package in R.\n",
        "Use the separate cells provided below to create each of your tables.\n",
        "\n",
        "1.  **CROP_DATA**\n",
        "2.  **FARM_PRICES**\n",
        "3.  **DAILY_FX**\n",
        "4.  **MONTHLY_FX**  "
      ]
    },
    {
      "cell_type": "markdown",
      "metadata": {
        "id": "0f22418b-f449-4545-a523-f8edd4d9703b"
      },
      "source": [
        "### Solution 1\n"
      ]
    },
    {
      "cell_type": "markdown",
      "source": [
        "\n",
        "\n",
        "---\n",
        "\n",
        "\n",
        "**Note 1:** I wasn’t able to connect Db2 database at Google Colab.  Instead, I used standard R libraries, but reached the same solutions.\n",
        "\n",
        "\n",
        "---\n",
        "\n",
        "\n",
        "\n",
        "**Note 2:** In Colab, you need to change the runtime environment to use R instead of Python. Here’s how you can do it:\n",
        "1. In the Colab menu, click on Runtime.\n",
        "2. Select Change runtime type.\n",
        "3. Choose R from the dropdown menu under Runtime type.\n",
        "---\n",
        "\n",
        "The solutions are below...\n"
      ],
      "metadata": {
        "id": "1O_H86PCswji"
      }
    },
    {
      "cell_type": "code",
      "source": [
        "library(tibble)"
      ],
      "metadata": {
        "id": "cDjMEC-vgvEu"
      },
      "execution_count": null,
      "outputs": []
    },
    {
      "cell_type": "code",
      "source": [
        "#CROP_DATA\n",
        "CROP_DATA <- tibble(\n",
        "  CD_ID = numeric(),\n",
        "  YEAR = numeric(),\n",
        "  CROP_TYPE = character(),\n",
        "  GEO = character(),\n",
        "  SEEDED_AREA = numeric(),\n",
        "  HARVESTED_AREA = numeric(),\n",
        "  PRODUCTION = numeric(),\n",
        "  AVG_YIELD = numeric()\n",
        ")\n",
        "CROP_DATA$YEAR <- as.Date(CROP_DATA$YEAR)"
      ],
      "metadata": {
        "id": "qyjrDwgdg0WY"
      },
      "execution_count": null,
      "outputs": []
    },
    {
      "cell_type": "code",
      "source": [
        "#FARM_PRICES\n",
        "FARM_PRICES <- tibble(\n",
        "  CD_ID = numeric(),\n",
        "  DATE = numeric(),\n",
        "  CROP_TYPE = character(),\n",
        "  GEO = character(),\n",
        "  PRICE_PRERMT = numeric()\n",
        ")\n",
        "FARM_PRICES$DATE <- as.Date(FARM_PRICES$DATE)"
      ],
      "metadata": {
        "id": "z2fN0YUWhBgV"
      },
      "execution_count": null,
      "outputs": []
    },
    {
      "cell_type": "code",
      "source": [
        "#DAILY_FX\n",
        "DAILY_FX <- tibble(\n",
        "  DFX_ID = numeric(),\n",
        "  DATE = numeric(),\n",
        "  FXUSDCAD = numeric()\n",
        ")\n",
        "DAILY_FX$DATE <- as.Date(DAILY_FX$DATE)"
      ],
      "metadata": {
        "id": "AbQoEXkWl2ui"
      },
      "execution_count": null,
      "outputs": []
    },
    {
      "cell_type": "code",
      "source": [
        "#MONTHLY_FX\n",
        "MONTHLY_FX <- tibble(\n",
        "  DFX_ID = numeric(),\n",
        "  DATE = numeric(),\n",
        "  FXUSDCAD = numeric()\n",
        ")\n",
        "MONTHLY_FX$DATE <- as.Date(MONTHLY_FX$DATE)"
      ],
      "metadata": {
        "id": "6sYjjluhl7XL"
      },
      "execution_count": null,
      "outputs": []
    },
    {
      "cell_type": "code",
      "source": [
        "head(CROP_DATA)\n",
        "head(FARM_PRICES)\n",
        "head(DAILY_FX)\n",
        "head(MONTHLY_FX)"
      ],
      "metadata": {
        "colab": {
          "base_uri": "https://localhost:8080/",
          "height": 340
        },
        "id": "XMP5TyNPldVf",
        "outputId": "7a370454-52a4-4d83-a188-eb3a0a5658c2"
      },
      "execution_count": null,
      "outputs": [
        {
          "output_type": "display_data",
          "data": {
            "text/html": [
              "<table class=\"dataframe\">\n",
              "<caption>A tibble: 0 × 8</caption>\n",
              "<thead>\n",
              "\t<tr><th scope=col>CD_ID</th><th scope=col>YEAR</th><th scope=col>CROP_TYPE</th><th scope=col>GEO</th><th scope=col>SEEDED_AREA</th><th scope=col>HARVESTED_AREA</th><th scope=col>PRODUCTION</th><th scope=col>AVG_YIELD</th></tr>\n",
              "\t<tr><th scope=col>&lt;dbl&gt;</th><th scope=col>&lt;date&gt;</th><th scope=col>&lt;chr&gt;</th><th scope=col>&lt;chr&gt;</th><th scope=col>&lt;dbl&gt;</th><th scope=col>&lt;dbl&gt;</th><th scope=col>&lt;dbl&gt;</th><th scope=col>&lt;dbl&gt;</th></tr>\n",
              "</thead>\n",
              "<tbody>\n",
              "</tbody>\n",
              "</table>\n"
            ],
            "text/markdown": "\nA tibble: 0 × 8\n\n| CD_ID &lt;dbl&gt; | YEAR &lt;date&gt; | CROP_TYPE &lt;chr&gt; | GEO &lt;chr&gt; | SEEDED_AREA &lt;dbl&gt; | HARVESTED_AREA &lt;dbl&gt; | PRODUCTION &lt;dbl&gt; | AVG_YIELD &lt;dbl&gt; |\n|---|---|---|---|---|---|---|---|\n\n",
            "text/latex": "A tibble: 0 × 8\n\\begin{tabular}{llllllll}\n CD\\_ID & YEAR & CROP\\_TYPE & GEO & SEEDED\\_AREA & HARVESTED\\_AREA & PRODUCTION & AVG\\_YIELD\\\\\n <dbl> & <date> & <chr> & <chr> & <dbl> & <dbl> & <dbl> & <dbl>\\\\\n\\hline\n\\end{tabular}\n",
            "text/plain": [
              "     CD_ID YEAR CROP_TYPE GEO SEEDED_AREA HARVESTED_AREA PRODUCTION AVG_YIELD"
            ]
          },
          "metadata": {}
        },
        {
          "output_type": "display_data",
          "data": {
            "text/html": [
              "<table class=\"dataframe\">\n",
              "<caption>A tibble: 0 × 5</caption>\n",
              "<thead>\n",
              "\t<tr><th scope=col>CD_ID</th><th scope=col>DATE</th><th scope=col>CROP_TYPE</th><th scope=col>GEO</th><th scope=col>PRICE_PRERMT</th></tr>\n",
              "\t<tr><th scope=col>&lt;dbl&gt;</th><th scope=col>&lt;date&gt;</th><th scope=col>&lt;chr&gt;</th><th scope=col>&lt;chr&gt;</th><th scope=col>&lt;dbl&gt;</th></tr>\n",
              "</thead>\n",
              "<tbody>\n",
              "</tbody>\n",
              "</table>\n"
            ],
            "text/markdown": "\nA tibble: 0 × 5\n\n| CD_ID &lt;dbl&gt; | DATE &lt;date&gt; | CROP_TYPE &lt;chr&gt; | GEO &lt;chr&gt; | PRICE_PRERMT &lt;dbl&gt; |\n|---|---|---|---|---|\n\n",
            "text/latex": "A tibble: 0 × 5\n\\begin{tabular}{lllll}\n CD\\_ID & DATE & CROP\\_TYPE & GEO & PRICE\\_PRERMT\\\\\n <dbl> & <date> & <chr> & <chr> & <dbl>\\\\\n\\hline\n\\end{tabular}\n",
            "text/plain": [
              "     CD_ID DATE CROP_TYPE GEO PRICE_PRERMT"
            ]
          },
          "metadata": {}
        },
        {
          "output_type": "display_data",
          "data": {
            "text/html": [
              "<table class=\"dataframe\">\n",
              "<caption>A tibble: 0 × 3</caption>\n",
              "<thead>\n",
              "\t<tr><th scope=col>DFX_ID</th><th scope=col>DATE</th><th scope=col>FXUSDCAD</th></tr>\n",
              "\t<tr><th scope=col>&lt;dbl&gt;</th><th scope=col>&lt;date&gt;</th><th scope=col>&lt;dbl&gt;</th></tr>\n",
              "</thead>\n",
              "<tbody>\n",
              "</tbody>\n",
              "</table>\n"
            ],
            "text/markdown": "\nA tibble: 0 × 3\n\n| DFX_ID &lt;dbl&gt; | DATE &lt;date&gt; | FXUSDCAD &lt;dbl&gt; |\n|---|---|---|\n\n",
            "text/latex": "A tibble: 0 × 3\n\\begin{tabular}{lll}\n DFX\\_ID & DATE & FXUSDCAD\\\\\n <dbl> & <date> & <dbl>\\\\\n\\hline\n\\end{tabular}\n",
            "text/plain": [
              "     DFX_ID DATE FXUSDCAD"
            ]
          },
          "metadata": {}
        },
        {
          "output_type": "display_data",
          "data": {
            "text/html": [
              "<table class=\"dataframe\">\n",
              "<caption>A tibble: 0 × 3</caption>\n",
              "<thead>\n",
              "\t<tr><th scope=col>DFX_ID</th><th scope=col>DATE</th><th scope=col>FXUSDCAD</th></tr>\n",
              "\t<tr><th scope=col>&lt;dbl&gt;</th><th scope=col>&lt;date&gt;</th><th scope=col>&lt;dbl&gt;</th></tr>\n",
              "</thead>\n",
              "<tbody>\n",
              "</tbody>\n",
              "</table>\n"
            ],
            "text/markdown": "\nA tibble: 0 × 3\n\n| DFX_ID &lt;dbl&gt; | DATE &lt;date&gt; | FXUSDCAD &lt;dbl&gt; |\n|---|---|---|\n\n",
            "text/latex": "A tibble: 0 × 3\n\\begin{tabular}{lll}\n DFX\\_ID & DATE & FXUSDCAD\\\\\n <dbl> & <date> & <dbl>\\\\\n\\hline\n\\end{tabular}\n",
            "text/plain": [
              "     DFX_ID DATE FXUSDCAD"
            ]
          },
          "metadata": {}
        }
      ]
    },
    {
      "cell_type": "markdown",
      "metadata": {
        "id": "1227dfa3-1afa-4510-9726-a9a242f3c337"
      },
      "source": [
        "## Problem 2\n",
        "#### Read Datasets and Load Tables\n",
        "Read the datasets into R dataframes using the urls provided above. Then load your tables.\n"
      ]
    },
    {
      "cell_type": "markdown",
      "metadata": {
        "id": "11adcef4-08a0-48b8-8425-7fd293bda840"
      },
      "source": [
        "###  Solution 2\n"
      ]
    },
    {
      "cell_type": "code",
      "metadata": {
        "id": "0a5aea40-5902-49b4-a3df-b185bd6c508e"
      },
      "outputs": [],
      "source": [
        "# Establish database connection\n",
        "library(readr)"
      ],
      "execution_count": null
    },
    {
      "cell_type": "code",
      "metadata": {
        "colab": {
          "base_uri": "https://localhost:8080/",
          "height": 286
        },
        "id": "c43ea946-9bef-4a54-83d9-b610285a9e4f",
        "outputId": "8ee3b0f8-3b6d-4cf8-e7c4-9b1a601e72b1"
      },
      "outputs": [
        {
          "output_type": "display_data",
          "data": {
            "text/html": [
              "<table class=\"dataframe\">\n",
              "<caption>A tibble: 6 × 8</caption>\n",
              "<thead>\n",
              "\t<tr><th scope=col>CD_ID</th><th scope=col>YEAR</th><th scope=col>CROP_TYPE</th><th scope=col>GEO</th><th scope=col>SEEDED_AREA</th><th scope=col>HARVESTED_AREA</th><th scope=col>PRODUCTION</th><th scope=col>AVG_YIELD</th></tr>\n",
              "\t<tr><th scope=col>&lt;dbl&gt;</th><th scope=col>&lt;date&gt;</th><th scope=col>&lt;chr&gt;</th><th scope=col>&lt;chr&gt;</th><th scope=col>&lt;dbl&gt;</th><th scope=col>&lt;dbl&gt;</th><th scope=col>&lt;dbl&gt;</th><th scope=col>&lt;dbl&gt;</th></tr>\n",
              "</thead>\n",
              "<tbody>\n",
              "\t<tr><td>0</td><td>1965-12-31</td><td>Barley</td><td>Alberta     </td><td>1372000</td><td>1372000</td><td>2504000</td><td>1825</td></tr>\n",
              "\t<tr><td>1</td><td>1965-12-31</td><td>Barley</td><td>Canada      </td><td>2476800</td><td>2476800</td><td>4752900</td><td>1920</td></tr>\n",
              "\t<tr><td>2</td><td>1965-12-31</td><td>Barley</td><td>Saskatchewan</td><td> 708000</td><td> 708000</td><td>1415000</td><td>2000</td></tr>\n",
              "\t<tr><td>3</td><td>1965-12-31</td><td>Canola</td><td>Alberta     </td><td> 297400</td><td> 297400</td><td> 215500</td><td> 725</td></tr>\n",
              "\t<tr><td>4</td><td>1965-12-31</td><td>Canola</td><td>Canada      </td><td> 580700</td><td> 580700</td><td> 512600</td><td> 885</td></tr>\n",
              "\t<tr><td>5</td><td>1965-12-31</td><td>Canola</td><td>Saskatchewan</td><td> 224600</td><td> 224600</td><td> 242700</td><td>1080</td></tr>\n",
              "</tbody>\n",
              "</table>\n"
            ],
            "text/markdown": "\nA tibble: 6 × 8\n\n| CD_ID &lt;dbl&gt; | YEAR &lt;date&gt; | CROP_TYPE &lt;chr&gt; | GEO &lt;chr&gt; | SEEDED_AREA &lt;dbl&gt; | HARVESTED_AREA &lt;dbl&gt; | PRODUCTION &lt;dbl&gt; | AVG_YIELD &lt;dbl&gt; |\n|---|---|---|---|---|---|---|---|\n| 0 | 1965-12-31 | Barley | Alberta      | 1372000 | 1372000 | 2504000 | 1825 |\n| 1 | 1965-12-31 | Barley | Canada       | 2476800 | 2476800 | 4752900 | 1920 |\n| 2 | 1965-12-31 | Barley | Saskatchewan |  708000 |  708000 | 1415000 | 2000 |\n| 3 | 1965-12-31 | Canola | Alberta      |  297400 |  297400 |  215500 |  725 |\n| 4 | 1965-12-31 | Canola | Canada       |  580700 |  580700 |  512600 |  885 |\n| 5 | 1965-12-31 | Canola | Saskatchewan |  224600 |  224600 |  242700 | 1080 |\n\n",
            "text/latex": "A tibble: 6 × 8\n\\begin{tabular}{llllllll}\n CD\\_ID & YEAR & CROP\\_TYPE & GEO & SEEDED\\_AREA & HARVESTED\\_AREA & PRODUCTION & AVG\\_YIELD\\\\\n <dbl> & <date> & <chr> & <chr> & <dbl> & <dbl> & <dbl> & <dbl>\\\\\n\\hline\n\t 0 & 1965-12-31 & Barley & Alberta      & 1372000 & 1372000 & 2504000 & 1825\\\\\n\t 1 & 1965-12-31 & Barley & Canada       & 2476800 & 2476800 & 4752900 & 1920\\\\\n\t 2 & 1965-12-31 & Barley & Saskatchewan &  708000 &  708000 & 1415000 & 2000\\\\\n\t 3 & 1965-12-31 & Canola & Alberta      &  297400 &  297400 &  215500 &  725\\\\\n\t 4 & 1965-12-31 & Canola & Canada       &  580700 &  580700 &  512600 &  885\\\\\n\t 5 & 1965-12-31 & Canola & Saskatchewan &  224600 &  224600 &  242700 & 1080\\\\\n\\end{tabular}\n",
            "text/plain": [
              "  CD_ID YEAR       CROP_TYPE GEO          SEEDED_AREA HARVESTED_AREA PRODUCTION\n",
              "1 0     1965-12-31 Barley    Alberta      1372000     1372000        2504000   \n",
              "2 1     1965-12-31 Barley    Canada       2476800     2476800        4752900   \n",
              "3 2     1965-12-31 Barley    Saskatchewan  708000      708000        1415000   \n",
              "4 3     1965-12-31 Canola    Alberta       297400      297400         215500   \n",
              "5 4     1965-12-31 Canola    Canada        580700      580700         512600   \n",
              "6 5     1965-12-31 Canola    Saskatchewan  224600      224600         242700   \n",
              "  AVG_YIELD\n",
              "1 1825     \n",
              "2 1920     \n",
              "3 2000     \n",
              "4  725     \n",
              "5  885     \n",
              "6 1080     "
            ]
          },
          "metadata": {}
        }
      ],
      "source": [
        "# CROP_DATA:\n",
        "crop_data <- read_csv(\"https://cf-courses-data.s3.us.cloud-object-storage.appdomain.cloud/IBM-RP0203EN-SkillsNetwork\n",
        "/labs/Final%20Project/Annual_Crop_Data.csv\", show_col_types = FALSE)\n",
        "head(crop_data)"
      ],
      "execution_count": null
    },
    {
      "cell_type": "code",
      "metadata": {
        "colab": {
          "base_uri": "https://localhost:8080/",
          "height": 286
        },
        "id": "db475296-6e24-4f3c-a9b9-2be5dd04c85e",
        "outputId": "f5b37fe7-9474-47b9-f299-fd8646f3d4de"
      },
      "outputs": [
        {
          "output_type": "display_data",
          "data": {
            "text/html": [
              "<table class=\"dataframe\">\n",
              "<caption>A tibble: 6 × 5</caption>\n",
              "<thead>\n",
              "\t<tr><th scope=col>CD_ID</th><th scope=col>DATE</th><th scope=col>CROP_TYPE</th><th scope=col>GEO</th><th scope=col>PRICE_PRERMT</th></tr>\n",
              "\t<tr><th scope=col>&lt;dbl&gt;</th><th scope=col>&lt;date&gt;</th><th scope=col>&lt;chr&gt;</th><th scope=col>&lt;chr&gt;</th><th scope=col>&lt;dbl&gt;</th></tr>\n",
              "</thead>\n",
              "<tbody>\n",
              "\t<tr><td>0</td><td>1985-01-01</td><td>Barley</td><td>Alberta     </td><td>127.39</td></tr>\n",
              "\t<tr><td>1</td><td>1985-01-01</td><td>Barley</td><td>Saskatchewan</td><td>121.38</td></tr>\n",
              "\t<tr><td>2</td><td>1985-01-01</td><td>Canola</td><td>Alberta     </td><td>342.00</td></tr>\n",
              "\t<tr><td>3</td><td>1985-01-01</td><td>Canola</td><td>Saskatchewan</td><td>339.82</td></tr>\n",
              "\t<tr><td>4</td><td>1985-01-01</td><td>Rye   </td><td>Alberta     </td><td>100.77</td></tr>\n",
              "\t<tr><td>5</td><td>1985-01-01</td><td>Rye   </td><td>Saskatchewan</td><td>109.75</td></tr>\n",
              "</tbody>\n",
              "</table>\n"
            ],
            "text/markdown": "\nA tibble: 6 × 5\n\n| CD_ID &lt;dbl&gt; | DATE &lt;date&gt; | CROP_TYPE &lt;chr&gt; | GEO &lt;chr&gt; | PRICE_PRERMT &lt;dbl&gt; |\n|---|---|---|---|---|\n| 0 | 1985-01-01 | Barley | Alberta      | 127.39 |\n| 1 | 1985-01-01 | Barley | Saskatchewan | 121.38 |\n| 2 | 1985-01-01 | Canola | Alberta      | 342.00 |\n| 3 | 1985-01-01 | Canola | Saskatchewan | 339.82 |\n| 4 | 1985-01-01 | Rye    | Alberta      | 100.77 |\n| 5 | 1985-01-01 | Rye    | Saskatchewan | 109.75 |\n\n",
            "text/latex": "A tibble: 6 × 5\n\\begin{tabular}{lllll}\n CD\\_ID & DATE & CROP\\_TYPE & GEO & PRICE\\_PRERMT\\\\\n <dbl> & <date> & <chr> & <chr> & <dbl>\\\\\n\\hline\n\t 0 & 1985-01-01 & Barley & Alberta      & 127.39\\\\\n\t 1 & 1985-01-01 & Barley & Saskatchewan & 121.38\\\\\n\t 2 & 1985-01-01 & Canola & Alberta      & 342.00\\\\\n\t 3 & 1985-01-01 & Canola & Saskatchewan & 339.82\\\\\n\t 4 & 1985-01-01 & Rye    & Alberta      & 100.77\\\\\n\t 5 & 1985-01-01 & Rye    & Saskatchewan & 109.75\\\\\n\\end{tabular}\n",
            "text/plain": [
              "  CD_ID DATE       CROP_TYPE GEO          PRICE_PRERMT\n",
              "1 0     1985-01-01 Barley    Alberta      127.39      \n",
              "2 1     1985-01-01 Barley    Saskatchewan 121.38      \n",
              "3 2     1985-01-01 Canola    Alberta      342.00      \n",
              "4 3     1985-01-01 Canola    Saskatchewan 339.82      \n",
              "5 4     1985-01-01 Rye       Alberta      100.77      \n",
              "6 5     1985-01-01 Rye       Saskatchewan 109.75      "
            ]
          },
          "metadata": {}
        }
      ],
      "source": [
        "# FARM_PRICES:\n",
        "farm_prices <- read_csv(\"https://cf-courses-data.s3.us.cloud-object-storage.appdomain.cloud/\n",
        "IBM-RP0203EN-SkillsNetwork/labs/Final%20Project/Monthly_Farm_Prices.csv\", show_col_types = FALSE)\n",
        "head(farm_prices)"
      ],
      "execution_count": null
    },
    {
      "cell_type": "code",
      "metadata": {
        "colab": {
          "base_uri": "https://localhost:8080/",
          "height": 286
        },
        "id": "fdea1aeb-5ae4-450c-a5f8-39d166c0415a",
        "outputId": "1d09aec3-5d4d-41c2-8570-084582ca2658"
      },
      "outputs": [
        {
          "output_type": "display_data",
          "data": {
            "text/html": [
              "<table class=\"dataframe\">\n",
              "<caption>A tibble: 6 × 3</caption>\n",
              "<thead>\n",
              "\t<tr><th scope=col>DFX_ID</th><th scope=col>DATE</th><th scope=col>FXUSDCAD</th></tr>\n",
              "\t<tr><th scope=col>&lt;dbl&gt;</th><th scope=col>&lt;date&gt;</th><th scope=col>&lt;dbl&gt;</th></tr>\n",
              "</thead>\n",
              "<tbody>\n",
              "\t<tr><td>0</td><td>2017-01-03</td><td>1.3435</td></tr>\n",
              "\t<tr><td>1</td><td>2017-01-04</td><td>1.3315</td></tr>\n",
              "\t<tr><td>2</td><td>2017-01-05</td><td>1.3244</td></tr>\n",
              "\t<tr><td>3</td><td>2017-01-06</td><td>1.3214</td></tr>\n",
              "\t<tr><td>4</td><td>2017-01-09</td><td>1.3240</td></tr>\n",
              "\t<tr><td>5</td><td>2017-01-10</td><td>1.3213</td></tr>\n",
              "</tbody>\n",
              "</table>\n"
            ],
            "text/markdown": "\nA tibble: 6 × 3\n\n| DFX_ID &lt;dbl&gt; | DATE &lt;date&gt; | FXUSDCAD &lt;dbl&gt; |\n|---|---|---|\n| 0 | 2017-01-03 | 1.3435 |\n| 1 | 2017-01-04 | 1.3315 |\n| 2 | 2017-01-05 | 1.3244 |\n| 3 | 2017-01-06 | 1.3214 |\n| 4 | 2017-01-09 | 1.3240 |\n| 5 | 2017-01-10 | 1.3213 |\n\n",
            "text/latex": "A tibble: 6 × 3\n\\begin{tabular}{lll}\n DFX\\_ID & DATE & FXUSDCAD\\\\\n <dbl> & <date> & <dbl>\\\\\n\\hline\n\t 0 & 2017-01-03 & 1.3435\\\\\n\t 1 & 2017-01-04 & 1.3315\\\\\n\t 2 & 2017-01-05 & 1.3244\\\\\n\t 3 & 2017-01-06 & 1.3214\\\\\n\t 4 & 2017-01-09 & 1.3240\\\\\n\t 5 & 2017-01-10 & 1.3213\\\\\n\\end{tabular}\n",
            "text/plain": [
              "  DFX_ID DATE       FXUSDCAD\n",
              "1 0      2017-01-03 1.3435  \n",
              "2 1      2017-01-04 1.3315  \n",
              "3 2      2017-01-05 1.3244  \n",
              "4 3      2017-01-06 1.3214  \n",
              "5 4      2017-01-09 1.3240  \n",
              "6 5      2017-01-10 1.3213  "
            ]
          },
          "metadata": {}
        }
      ],
      "source": [
        "# DAILY_FX:\n",
        "daily_fx <- read_csv(\"https://cf-courses-data.s3.us.cloud-object-storage.appdomain.cloud/\n",
        "IBM-RP0203EN-SkillsNetwork/labs/Final%20Project/Daily_FX.csv\", show_col_types = FALSE)\n",
        "head(daily_fx)"
      ],
      "execution_count": null
    },
    {
      "cell_type": "code",
      "metadata": {
        "colab": {
          "base_uri": "https://localhost:8080/",
          "height": 286
        },
        "id": "f3c3bd29-694d-4f05-9528-49b0e2c130e4",
        "outputId": "519c89c6-0e64-4f2c-bec5-23eec97e55da"
      },
      "outputs": [
        {
          "output_type": "display_data",
          "data": {
            "text/html": [
              "<table class=\"dataframe\">\n",
              "<caption>A tibble: 6 × 3</caption>\n",
              "<thead>\n",
              "\t<tr><th scope=col>DFX_ID</th><th scope=col>DATE</th><th scope=col>FXUSDCAD</th></tr>\n",
              "\t<tr><th scope=col>&lt;dbl&gt;</th><th scope=col>&lt;date&gt;</th><th scope=col>&lt;dbl&gt;</th></tr>\n",
              "</thead>\n",
              "<tbody>\n",
              "\t<tr><td>0</td><td>2017-01-01</td><td>1.319276</td></tr>\n",
              "\t<tr><td>1</td><td>2017-02-01</td><td>1.310726</td></tr>\n",
              "\t<tr><td>2</td><td>2017-03-01</td><td>1.338643</td></tr>\n",
              "\t<tr><td>3</td><td>2017-04-01</td><td>1.344021</td></tr>\n",
              "\t<tr><td>4</td><td>2017-05-01</td><td>1.360705</td></tr>\n",
              "\t<tr><td>5</td><td>2017-06-01</td><td>1.329805</td></tr>\n",
              "</tbody>\n",
              "</table>\n"
            ],
            "text/markdown": "\nA tibble: 6 × 3\n\n| DFX_ID &lt;dbl&gt; | DATE &lt;date&gt; | FXUSDCAD &lt;dbl&gt; |\n|---|---|---|\n| 0 | 2017-01-01 | 1.319276 |\n| 1 | 2017-02-01 | 1.310726 |\n| 2 | 2017-03-01 | 1.338643 |\n| 3 | 2017-04-01 | 1.344021 |\n| 4 | 2017-05-01 | 1.360705 |\n| 5 | 2017-06-01 | 1.329805 |\n\n",
            "text/latex": "A tibble: 6 × 3\n\\begin{tabular}{lll}\n DFX\\_ID & DATE & FXUSDCAD\\\\\n <dbl> & <date> & <dbl>\\\\\n\\hline\n\t 0 & 2017-01-01 & 1.319276\\\\\n\t 1 & 2017-02-01 & 1.310726\\\\\n\t 2 & 2017-03-01 & 1.338643\\\\\n\t 3 & 2017-04-01 & 1.344021\\\\\n\t 4 & 2017-05-01 & 1.360705\\\\\n\t 5 & 2017-06-01 & 1.329805\\\\\n\\end{tabular}\n",
            "text/plain": [
              "  DFX_ID DATE       FXUSDCAD\n",
              "1 0      2017-01-01 1.319276\n",
              "2 1      2017-02-01 1.310726\n",
              "3 2      2017-03-01 1.338643\n",
              "4 3      2017-04-01 1.344021\n",
              "5 4      2017-05-01 1.360705\n",
              "6 5      2017-06-01 1.329805"
            ]
          },
          "metadata": {}
        }
      ],
      "source": [
        "# MONTHLY_FX:\n",
        "monthly_fx <- read_csv(\"https://cf-courses-data.s3.us.cloud-object-storage.appdomain.cloud/\n",
        "IBM-RP0203EN-SkillsNetwork/labs/Final%20Project/Monthly_FX.csv\", show_col_types = FALSE)\n",
        "head(monthly_fx)"
      ],
      "execution_count": null
    },
    {
      "cell_type": "markdown",
      "metadata": {
        "id": "56f59406-e3e6-4cfe-b6b3-41f9b7a37922"
      },
      "source": [
        "## Now execute SQL queries using the RODBC R package to solve the assignment problems.\n",
        "\n",
        "## Problem 3\n",
        "#### How many records are in the farm prices dataset?\n"
      ]
    },
    {
      "cell_type": "markdown",
      "metadata": {
        "id": "dd9ba845-6446-4581-b45e-aceac71ef803"
      },
      "source": [
        "### Solution 3\n"
      ]
    },
    {
      "cell_type": "code",
      "metadata": {
        "id": "bdac4683-706e-4ee5-adba-a349dd057fab",
        "colab": {
          "base_uri": "https://localhost:8080/",
          "height": 0
        },
        "outputId": "e0b9b873-29ec-4fc1-af49-ea7bc584363b"
      },
      "outputs": [
        {
          "output_type": "stream",
          "name": "stderr",
          "text": [
            "Installing package into ‘/usr/local/lib/R/site-library’\n",
            "(as ‘lib’ is unspecified)\n",
            "\n",
            "also installing the dependency ‘RSQLite’\n",
            "\n",
            "\n",
            "Loading required package: gsubfn\n",
            "\n",
            "Loading required package: proto\n",
            "\n",
            "Warning message:\n",
            "“no DISPLAY variable so Tk is not available”\n",
            "Loading required package: RSQLite\n",
            "\n"
          ]
        }
      ],
      "source": [
        "install.packages(\"sqldf\")\n",
        "library(sqldf)"
      ],
      "execution_count": 72
    },
    {
      "cell_type": "code",
      "source": [
        "num_records <- sqldf(\"SELECT COUNT(*)\n",
        "                      FROM farm_prices\")\n",
        "print(num_records)\n",
        "\n",
        "\n",
        "message <- paste(\"There are\", num_records, \"records in the farm prices dataset\")\n",
        "print(message)"
      ],
      "metadata": {
        "colab": {
          "base_uri": "https://localhost:8080/"
        },
        "id": "k4UrnUWmuaHG",
        "outputId": "2f8a7c47-1100-4bbd-d1e5-f187915a03f7"
      },
      "execution_count": 167,
      "outputs": [
        {
          "output_type": "stream",
          "name": "stdout",
          "text": [
            "  COUNT(*)\n",
            "1     2678\n",
            "[1] \"There are 2678 records in the farm prices dataset\"\n"
          ]
        }
      ]
    },
    {
      "cell_type": "markdown",
      "metadata": {
        "id": "ef2a0077-0585-4af2-98ce-f9c7bce35bca"
      },
      "source": [
        "## Problem 4\n",
        "#### Which geographies are included in the farm prices dataset?\n"
      ]
    },
    {
      "cell_type": "markdown",
      "metadata": {
        "id": "2c2c020c-1f45-478c-96df-e727c5d498f3"
      },
      "source": [
        "### Solution 4\n"
      ]
    },
    {
      "cell_type": "code",
      "metadata": {
        "id": "f4e66899-3e38-46c4-b158-b6ad190b4529",
        "colab": {
          "base_uri": "https://localhost:8080/"
        },
        "outputId": "2c32a5f0-57cb-4891-84fd-ec6d0f13b12c"
      },
      "outputs": [
        {
          "output_type": "stream",
          "name": "stdout",
          "text": [
            "           GEO\n",
            "1      Alberta\n",
            "2 Saskatchewan\n",
            "[1] \"c(\\\"Alberta\\\", \\\"Saskatchewan\\\") are included in the farm prices dataset\"\n"
          ]
        }
      ],
      "source": [
        "unique_geo <- sqldf(\"SELECT DISTINCT GEO\n",
        "                     FROM farm_prices\")\n",
        "print(unique_geo)"
      ],
      "execution_count": 170
    },
    {
      "cell_type": "markdown",
      "metadata": {
        "id": "01b6823a-2be8-43e5-b755-a5375b019124"
      },
      "source": [
        "## Problem 5\n",
        "#### How many hectares of Rye were harvested in Canada in 1968?\n"
      ]
    },
    {
      "cell_type": "markdown",
      "metadata": {
        "id": "0515b0c1-8428-4bf6-bda6-64a7548254ec"
      },
      "source": [
        "### Solution 5\n"
      ]
    },
    {
      "cell_type": "code",
      "metadata": {
        "id": "763642be-4390-4799-97a0-aac3d2f13d87",
        "colab": {
          "base_uri": "https://localhost:8080/"
        },
        "outputId": "88b65ab2-6ff7-4471-f962-21e95dd2b622"
      },
      "outputs": [
        {
          "output_type": "stream",
          "name": "stdout",
          "text": [
            "   Total\n",
            "1 274100\n",
            "[1] \"274100 hectares of rye were harvested.\"\n"
          ]
        }
      ],
      "source": [
        "crop_data$YEAR_text <- format(crop_data$YEAR, \"%Y\")\n",
        "\n",
        "rye_1968_canada <- sqldf(\"SELECT SUM(HARVESTED_AREA) AS Total\n",
        "                          FROM crop_data\n",
        "                          WHERE CROP_TYPE = 'Rye'\n",
        "                          AND GEO = 'Canada'\n",
        "                          AND YEAR_text = '1968'\")\n",
        "print(rye_1968_canada)\n",
        "\n",
        "\n",
        "message <- paste(rye_1968_canada, \"hectares of rye were harvested.\")\n",
        "print(message)"
      ],
      "execution_count": 171
    },
    {
      "cell_type": "markdown",
      "metadata": {
        "id": "d9524315-0c13-4a32-a06b-248fd1119b79"
      },
      "source": [
        "## Problem 6\n",
        "#### Query and display the first 6 rows of the farm prices table for Rye.\n"
      ]
    },
    {
      "cell_type": "markdown",
      "metadata": {
        "id": "f217b583-799c-4f3a-bfba-7aae37b1f5fe"
      },
      "source": [
        "### Solution 6\n"
      ]
    },
    {
      "cell_type": "code",
      "metadata": {
        "id": "aac964bf-f6bc-4152-b302-ba6ff9a630eb",
        "colab": {
          "base_uri": "https://localhost:8080/",
          "height": 0
        },
        "outputId": "603fe7ab-8110-4e97-b1f6-622d1ce56b1f"
      },
      "outputs": [
        {
          "output_type": "stream",
          "name": "stdout",
          "text": [
            "  CD_ID       DATE CROP_TYPE          GEO PRICE_PRERMT\n",
            "1     4 1985-01-01       Rye      Alberta       100.77\n",
            "2     5 1985-01-01       Rye Saskatchewan       109.75\n",
            "3    10 1985-02-01       Rye      Alberta        95.05\n",
            "4    11 1985-02-01       Rye Saskatchewan       103.46\n",
            "5    16 1985-03-01       Rye      Alberta        96.77\n",
            "6    17 1985-03-01       Rye Saskatchewan       106.38\n"
          ]
        }
      ],
      "source": [
        "rye_prices <- sqldf(\"SELECT *\n",
        "                     FROM farm_prices\n",
        "                     WHERE CROP_TYPE = 'Rye'\n",
        "                     ORDER BY DATE ASC\n",
        "                     LIMIT 6\")\n",
        "print(rye_prices)"
      ],
      "execution_count": 107
    },
    {
      "cell_type": "markdown",
      "metadata": {
        "id": "d72276c2-9a14-4b5e-8c96-0974d877e2c9"
      },
      "source": [
        "## Problem 7\n",
        "#### Which provinces grew Barley?\n"
      ]
    },
    {
      "cell_type": "markdown",
      "metadata": {
        "id": "2082e2f5-5a9f-4f96-bc85-e033259913df"
      },
      "source": [
        "### Solution 7\n"
      ]
    },
    {
      "cell_type": "code",
      "metadata": {
        "id": "270d379b-42a6-494d-a78f-0d51bffa287e",
        "colab": {
          "base_uri": "https://localhost:8080/",
          "height": 0
        },
        "outputId": "223a7397-fb6a-4dec-e2bf-7b77095b620f"
      },
      "outputs": [
        {
          "output_type": "stream",
          "name": "stdout",
          "text": [
            "           GEO\n",
            "1      Alberta\n",
            "2       Canada\n",
            "3 Saskatchewan\n"
          ]
        }
      ],
      "source": [
        "provinces_barley <- sqldf(\"SELECT DISTINCT GEO\n",
        "                           FROM crop_data\n",
        "                           WHERE CROP_TYPE = 'Barley'\")\n",
        "print(provinces_barley)"
      ],
      "execution_count": 112
    },
    {
      "cell_type": "markdown",
      "metadata": {
        "id": "b216dcb9-6813-44f2-ac78-b34cd14fe973"
      },
      "source": [
        "## Problem 8\n",
        "#### Find the first and last dates for the farm prices data.\n"
      ]
    },
    {
      "cell_type": "markdown",
      "metadata": {
        "id": "f4ad5092-d17d-4b45-a982-e4a57eeb1b94"
      },
      "source": [
        "### Solution 8\n"
      ]
    },
    {
      "cell_type": "code",
      "metadata": {
        "id": "aaea0ac3-5a3f-42f1-990f-647c0c5d320e",
        "colab": {
          "base_uri": "https://localhost:8080/",
          "height": 0
        },
        "outputId": "2b2fdb44-6c7d-4c09-97c5-e83cb708e223"
      },
      "outputs": [
        {
          "output_type": "stream",
          "name": "stdout",
          "text": [
            "  First_Date  Last_Date\n",
            "1 1970-01-01 1970-01-01\n"
          ]
        }
      ],
      "source": [
        "farm_prices_dates <- sqldf(\"SELECT\n",
        "                              DATE(MIN(DATE), 'unixepoch') AS First_Date,\n",
        "                              DATE(MAX(DATE), 'unixepoch') AS Last_Date\n",
        "                            FROM farm_prices\")\n",
        "print(farm_prices_dates)"
      ],
      "execution_count": 115
    },
    {
      "cell_type": "markdown",
      "metadata": {
        "id": "a8cc35d3-31e3-43e2-af52-7c6c624ed888"
      },
      "source": [
        "## Problem 9\n",
        "#### Which crops have ever reached a farm price greater than or equal to &#0036;350 per metric tonne?\n"
      ]
    },
    {
      "cell_type": "markdown",
      "metadata": {
        "id": "0a0574c9-b912-4da4-bc48-cd78d3af1d02"
      },
      "source": [
        "### Solution 9\n"
      ]
    },
    {
      "cell_type": "code",
      "metadata": {
        "id": "825498f1-9935-4f0f-a7d3-25180e9af6b6",
        "colab": {
          "base_uri": "https://localhost:8080/",
          "height": 0
        },
        "outputId": "f0458a5e-8e42-44d0-e921-fd9ba74618d8"
      },
      "outputs": [
        {
          "output_type": "stream",
          "name": "stdout",
          "text": [
            "  CROP_TYPE\n",
            "1    Canola\n"
          ]
        }
      ],
      "source": [
        "crops_above_350 <- sqldf(\"SELECT DISTINCT CROP_TYPE\n",
        "                          FROM farm_prices\n",
        "                          WHERE PRICE_PRERMT >= 350\")\n",
        "print(crops_above_350)"
      ],
      "execution_count": 117
    },
    {
      "cell_type": "markdown",
      "metadata": {
        "id": "b3a969d5-6ccd-457b-ba85-e714c0e7cc52"
      },
      "source": [
        "## Problem 10\n",
        "#### Rank the crop types harvested in Saskatchewan in the year 2000 by their average yield. Which crop performed best?\n"
      ]
    },
    {
      "cell_type": "markdown",
      "metadata": {
        "id": "d541ac89-aa12-4f01-ae94-2f60fc62ccdf"
      },
      "source": [
        "### Solution 10\n"
      ]
    },
    {
      "cell_type": "code",
      "metadata": {
        "id": "5a10e7d2-b344-49d1-a6da-2795c40f467a",
        "colab": {
          "base_uri": "https://localhost:8080/"
        },
        "outputId": "9bf8fb53-687b-4018-8f08-4493614586bd"
      },
      "outputs": [
        {
          "output_type": "stream",
          "name": "stdout",
          "text": [
            "  CD_ID       YEAR CROP_TYPE          GEO SEEDED_AREA HARVESTED_AREA PRODUCTION\n",
            "1   422 2000-12-31    Barley Saskatchewan     2063900        1922300    5301600\n",
            "  AVG_YIELD YEAR_text\n",
            "1      2800      2000\n"
          ]
        }
      ],
      "source": [
        "top_crop <- sqldf(\"SELECT *\n",
        "                  FROM crop_data\n",
        "                  WHERE GEO = 'Saskatchewan'\n",
        "                  AND YEAR_text = '2000'\n",
        "                  ORDER BY AVG_YIELD DESC\n",
        "                  LIMIT 1\")\n",
        "print(top_crop)"
      ],
      "execution_count": 172
    },
    {
      "cell_type": "code",
      "source": [
        "best_crop <- top_crop$CROP_TYPE\n",
        "best_yield <- top_crop$AVG_YIELD\n",
        "\n",
        "message <- paste(\"The best one was\", best_crop, \"with an average yield of\", best_yield, \"per hectare.\")\n",
        "print(message)"
      ],
      "metadata": {
        "colab": {
          "base_uri": "https://localhost:8080/"
        },
        "id": "xkt-jQdd-Stn",
        "outputId": "f96efdf0-88f8-4533-97cf-a15511af3ce8"
      },
      "execution_count": 173,
      "outputs": [
        {
          "output_type": "stream",
          "name": "stdout",
          "text": [
            "[1] \"The best one was Barley with an average yield of 2800 per hectare.\"\n"
          ]
        }
      ]
    },
    {
      "cell_type": "markdown",
      "metadata": {
        "id": "a16d0bd0-59de-4e63-aff0-3002d0a262fa"
      },
      "source": [
        "## Problem 11\n",
        "#### Rank the crops and geographies by their average yield (KG per hectare) since the year 2000. Which crop and province had the highest average yield since the year 2000?\n"
      ]
    },
    {
      "cell_type": "markdown",
      "metadata": {
        "id": "9a7fd05f-8b41-4193-a4a9-40b4da6ae2a8"
      },
      "source": [
        "### Solution 11\n"
      ]
    },
    {
      "cell_type": "code",
      "metadata": {
        "id": "d164e17c-1697-492c-a447-1a25a2a9ca17",
        "colab": {
          "base_uri": "https://localhost:8080/"
        },
        "outputId": "36b133b4-9adc-43cb-86ef-3fc8fdbede5f"
      },
      "outputs": [
        {
          "output_type": "stream",
          "name": "stdout",
          "text": [
            "  CROP_TYPE     GEO\n",
            "1    Barley Alberta\n"
          ]
        }
      ],
      "source": [
        "ranked_crops <- sqldf(\"SELECT CROP_TYPE, GEO\n",
        "                       FROM crop_data\n",
        "                       WHERE YEAR_text >= '2000'\n",
        "                       GROUP BY CROP_TYPE, GEO\n",
        "                       ORDER BY AVG_YIELD DESC\")\n",
        "top_crop_province <- head(ranked_crops, 1)\n",
        "print(top_crop_province)"
      ],
      "execution_count": 175
    },
    {
      "cell_type": "markdown",
      "metadata": {
        "id": "680ef9a5-9254-4f6a-9c4f-5405a7c16e9d"
      },
      "source": [
        "## Problem 12\n",
        "#### Use a subquery to determine how much wheat was harvested in Canada in the most recent year of the data.\n"
      ]
    },
    {
      "cell_type": "markdown",
      "metadata": {
        "id": "a7357ad4-1194-4154-9c31-0f2370add18d"
      },
      "source": [
        "### Solution 12\n"
      ]
    },
    {
      "cell_type": "code",
      "metadata": {
        "id": "151479c8-cccd-4c05-8aeb-5f60a54aa6e1",
        "colab": {
          "base_uri": "https://localhost:8080/",
          "height": 0
        },
        "outputId": "a2e38d74-00fa-4e1f-a5be-c9cf735e4aad"
      },
      "outputs": [
        {
          "output_type": "stream",
          "name": "stdout",
          "text": [
            "  Total_Harvested_Wheat\n",
            "1              10017800\n"
          ]
        }
      ],
      "source": [
        "wheat_canada <- sqldf(\"\n",
        "  SELECT SUM(HARVESTED_AREA) AS Total_Harvested_Wheat\n",
        "  FROM crop_data\n",
        "  WHERE CROP_TYPE = 'Wheat'\n",
        "    AND GEO = 'Canada'\n",
        "    AND YEAR = (SELECT MAX(YEAR) FROM crop_data)\n",
        "\")\n",
        "\n",
        "print(wheat_canada)"
      ],
      "execution_count": 146
    },
    {
      "cell_type": "markdown",
      "metadata": {
        "id": "7738152d-4c80-4f05-a06b-9c8d733a4449"
      },
      "source": [
        "## Problem 13\n",
        "#### Use an implicit inner join to calculate the monthly price per metric tonne of Canola grown in Saskatchewan in both Canadian and US dollars. Display the most recent 6 months of the data.\n"
      ]
    },
    {
      "cell_type": "markdown",
      "metadata": {
        "id": "9e7efc40-e7ff-40ba-980f-8ebc39bd179e"
      },
      "source": [
        "### Solution 13\n"
      ]
    },
    {
      "cell_type": "code",
      "metadata": {
        "id": "2ed1ed9c-3325-4e80-87aa-ce06444269cc",
        "colab": {
          "base_uri": "https://localhost:8080/",
          "height": 0
        },
        "outputId": "09a86f4e-4fcc-4e6a-c2bc-b7e44a77da39"
      },
      "outputs": [
        {
          "output_type": "stream",
          "name": "stdout",
          "text": [
            "  CD_ID       YEAR CROP_TYPE          GEO PRICE_CAN PRICE_USD\n",
            "1   665 2020-12-31    Canola Saskatchewan    176.96  139.0752\n",
            "2   665 2020-12-31    Canola Saskatchewan    181.43  142.5882\n",
            "3   665 2020-12-31    Canola Saskatchewan    182.21  143.2013\n",
            "4   665 2020-12-31    Canola Saskatchewan    184.70  145.1582\n",
            "5   665 2020-12-31    Canola Saskatchewan    184.81  145.2446\n",
            "6   665 2020-12-31    Canola Saskatchewan    197.27  155.0371\n"
          ]
        }
      ],
      "source": [
        "query <- \"\n",
        "  SELECT DISTINCT cp.CD_ID, cp.YEAR, cp.CROP_TYPE, cp.GEO, fp.PRICE_PRERMT AS PRICE_CAN,\n",
        "         fp.PRICE_PRERMT / fx.FXUSDCAD AS PRICE_USD\n",
        "  FROM crop_data cp\n",
        "  INNER JOIN farm_prices fp ON cp.CROP_TYPE = fp.CROP_TYPE AND cp.GEO = fp.GEO\n",
        "  LEFT JOIN monthly_fx fx ON strftime('%Y-%m', cp.YEAR) = strftime('%Y-%m', fx.DATE)\n",
        "  WHERE cp.CROP_TYPE = 'Canola' AND cp.GEO = 'Saskatchewan'\n",
        "  ORDER BY cp.YEAR DESC\n",
        "  LIMIT 6\n",
        "\"\n",
        "\n",
        "result <- sqldf(query)\n",
        "print(result)"
      ],
      "execution_count": 160
    },
    {
      "cell_type": "markdown",
      "source": [
        "Solutions by\n",
        "Joice Oliveira in December, 2024\n",
        "\n",
        "\n"
      ],
      "metadata": {
        "id": "4oqiGg9DD3Cu"
      }
    },
    {
      "cell_type": "markdown",
      "source": [
        "\n",
        "Author\n",
        "Jeff Grossman\n",
        "\n",
        "Contributor\n",
        "Rav Ahuja"
      ],
      "metadata": {
        "id": "KVN9dAizEOoS"
      }
    },
    {
      "cell_type": "markdown",
      "metadata": {
        "id": "065d968f-435a-4263-8f4b-a3195463d42f"
      },
      "source": [
        "![footer](https://cf-courses-data.s3.us.cloud-object-storage.appdomain.cloud/zOMU1iwlZgwJXjWYzQAIgg/SNIBMfooter.png \"footer\")\n",
        "\n",
        "<!--## Change log\n",
        "\n",
        "| Date       | Version | Changed by    | Change Description                                                                                          |\n",
        "| ---------- | ------- | ------------- | ----------------------------------------------------------------------------------------------------------- |\n",
        "| 2021-04-01 | 0.7     | Jeff Grossman | Split Problem 1 solution cell into multiple cells, fixed minor bugs |\n",
        "| 2021-03-12 | 0.6     | Jeff Grossman | Cleaned up content for production |\n",
        "| 2021-03-11 | 0.5     | Jeff Grossman | Moved more advanced problems to optional honours module |\n",
        "| 2021-03-10 | 0.4     | Jeff Grossman | Added introductory and intermediate level problems and removed some advanced problems |\n",
        "| 2021-03-04 | 0.3     | Jeff Grossman | Moved some problems to a new practice lab as prep for this assignment\n",
        "| 2021-03-04 | 0.2     | Jeff Grossman | Sorted problems roughly by level of difficulty and relegated more advanced ones to ungraded bonus problems  |\n",
        "| 2021-02-20 | 0.1     | Jeff Grossman | Started content creation                                                                                    |-->\n",
        "\n",
        "\n",
        "\n"
      ]
    }
  ],
  "metadata": {
    "kernelspec": {
      "display_name": "R",
      "name": "ir"
    },
    "language_info": {
      "name": "R"
    },
    "prev_pub_hash": "1c88117806795375bf4fe883ad5b652d7876be7e660974e828408ab9eb9fa7a7",
    "colab": {
      "provenance": [],
      "collapsed_sections": [
        "065d968f-435a-4263-8f4b-a3195463d42f"
      ]
    }
  },
  "nbformat": 4,
  "nbformat_minor": 0
}